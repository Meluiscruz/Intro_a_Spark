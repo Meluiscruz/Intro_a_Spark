{
 "cells": [
  {
   "cell_type": "markdown",
   "metadata": {},
   "source": [
    "# 4. Data Frames y SQL."
   ]
  },
  {
   "cell_type": "markdown",
   "metadata": {},
   "source": [
    "### Lección 13: Creación de DataFrames."
   ]
  },
  {
   "cell_type": "markdown",
   "metadata": {},
   "source": [
    "Primero debemos importar las librerias necesarias para la creación de las estructuras (DataFrames)"
   ]
  },
  {
   "cell_type": "code",
   "execution_count": 1,
   "metadata": {},
   "outputs": [],
   "source": [
    "from pyspark import SparkContext\n",
    "from pyspark.sql import SparkSession\n",
    "\n",
    "from pyspark.sql.types import StructType, StructField\n",
    "from pyspark.sql.types import IntegerType, StringType, FloatType\n",
    "from pyspark.sql.types import Row"
   ]
  },
  {
   "cell_type": "code",
   "execution_count": 2,
   "metadata": {},
   "outputs": [],
   "source": [
    "from pyspark.sql import SQLContext"
   ]
  },
  {
   "cell_type": "markdown",
   "metadata": {},
   "source": [
    "Iniciamos dos contextos de spark, SparkContex, que requiere dos parametros (master es la dirección ip de la máquina donde se ejecuta la aplicación, appName es el nobre de la aplicación)"
   ]
  },
  {
   "cell_type": "code",
   "execution_count": 3,
   "metadata": {},
   "outputs": [],
   "source": [
    "spark = SparkContext(master=\"local\", appName=\"DataFrames\")\n",
    "sqlContext = SQLContext(spark)"
   ]
  },
  {
   "cell_type": "markdown",
   "metadata": {},
   "source": [
    "Podemos crear DataFrames de distintas maneras, a continuación crearemos un DF a partir de un archivo csv ya existente.\n",
    "\n",
    "**Nota:** Es altamente recomendable que en la medida de lo posible, **todos** los DF se creen directamente desde los datos y no desde RDDs."
   ]
  },
  {
   "cell_type": "markdown",
   "metadata": {},
   "source": [
    "Las siguientes celdas son para deducir la ruta del archivo que se convertirá en un DataFrame"
   ]
  },
  {
   "cell_type": "code",
   "execution_count": 4,
   "metadata": {
    "scrolled": true
   },
   "outputs": [
    {
     "name": "stdout",
     "output_type": "stream",
     "text": [
      "codeExample.py\r\n",
      "data.csv\r\n",
      "files\r\n",
      "Images\r\n",
      "Leccion_6_Jupyter_vs_CLI.ipynb\r\n",
      "modelo_relacional_4ce1ab04-d36f-4c9e-afd0-03e4a7d874b9.jpeg\r\n",
      "Seccion_3_Operaciones_sobre_RDD.ipynb\r\n",
      "Seccion_4_Data_Frames_y_SQL.ipynb\r\n",
      "Seccion_5_Persistencia_y_particionado.ipynb\r\n",
      "venv\r\n"
     ]
    }
   ],
   "source": [
    "!ls"
   ]
  },
  {
   "cell_type": "code",
   "execution_count": 5,
   "metadata": {
    "scrolled": false
   },
   "outputs": [
    {
     "name": "stdout",
     "output_type": "stream",
     "text": [
      "deporte.csv\t deportistaError.csv  modelo_relacional.jpg\n",
      "deportista2.csv  evento.csv\t      paises.csv\n",
      "deportista.csv\t juegos.csv\t      resultados.csv\n",
      ",nombre_juego,annio,temporada,ciudad\n",
      "1,1896 Verano,1896,Verano,Athina\n",
      "2,1900 Verano,1900,Verano,Paris\n",
      "3,1904 Verano,1904,Verano,St. Louis\n",
      "4,1906 Verano,1906,Verano,Athina\n"
     ]
    }
   ],
   "source": [
    "!ls ./files/\n",
    "!head -n 5 ./files/juegos.csv"
   ]
  },
  {
   "cell_type": "code",
   "execution_count": 6,
   "metadata": {},
   "outputs": [
    {
     "name": "stdout",
     "output_type": "stream",
     "text": [
      "/home/cleto/Desktop/Intro_to_Spark\r\n"
     ]
    }
   ],
   "source": [
    "!pwd"
   ]
  },
  {
   "cell_type": "code",
   "execution_count": 7,
   "metadata": {},
   "outputs": [],
   "source": [
    "path = './files/'"
   ]
  },
  {
   "cell_type": "markdown",
   "metadata": {},
   "source": [
    "La siguiente celda muestra la definición del esquema del dataframe (juegoSchema), muy similar a la definición de una tabla de SQL"
   ]
  },
  {
   "cell_type": "code",
   "execution_count": 8,
   "metadata": {},
   "outputs": [],
   "source": [
    "juegoSchema = StructType([\n",
    "    StructField(\"juego_id\", IntegerType(),False),\n",
    "    StructField(\"year\", StringType(), False),\n",
    "    StructField(\"temporada\", StringType(), False),\n",
    "    StructField(\"ciudad\", StringType(), False)\n",
    "])"
   ]
  },
  {
   "cell_type": "markdown",
   "metadata": {},
   "source": [
    "Cada campo requiere de tres parámetros; el nombre del campo, el tipo de dato en el campo y si es posible que sea nulo o no (True si puede ser nulo, False si no puede ser nulo)"
   ]
  },
  {
   "cell_type": "markdown",
   "metadata": {},
   "source": [
    "A continuación, se asigna a la variable juegoDF el contexto sql, que posee una definición llamada juegoSchema, con la opción de que la primera fila sea considerada como el encabezado de la tabla. Finalmente, toda esa estructura funciona como contenedor del contenido del archivo tipo csv que habita en una ruta predeterminada y un nombre definido."
   ]
  },
  {
   "cell_type": "code",
   "execution_count": 9,
   "metadata": {},
   "outputs": [],
   "source": [
    "juegoDF = sqlContext.read.schema(juegoSchema)\\\n",
    "    .option(\"header\",\"true\").csv(path + \"juegos.csv\")"
   ]
  },
  {
   "cell_type": "markdown",
   "metadata": {},
   "source": [
    "El metodo ```show(4)``` muestra las primeras 4 filas de la estructura. "
   ]
  },
  {
   "cell_type": "code",
   "execution_count": 10,
   "metadata": {},
   "outputs": [],
   "source": [
    "#juegoDF.show(4)"
   ]
  },
  {
   "cell_type": "code",
   "execution_count": 11,
   "metadata": {},
   "outputs": [
    {
     "data": {
      "text/html": [
       "\n",
       "        <div>\n",
       "            <p><b>SparkContext</b></p>\n",
       "\n",
       "            <p><a href=\"http://192.168.1.69:4040\">Spark UI</a></p>\n",
       "\n",
       "            <dl>\n",
       "              <dt>Version</dt>\n",
       "                <dd><code>v2.4.7</code></dd>\n",
       "              <dt>Master</dt>\n",
       "                <dd><code>local</code></dd>\n",
       "              <dt>AppName</dt>\n",
       "                <dd><code>DataFrames</code></dd>\n",
       "            </dl>\n",
       "        </div>\n",
       "        "
      ],
      "text/plain": [
       "<SparkContext master=local appName=DataFrames>"
      ]
     },
     "execution_count": 11,
     "metadata": {},
     "output_type": "execute_result"
    }
   ],
   "source": [
    "spark"
   ]
  },
  {
   "cell_type": "markdown",
   "metadata": {},
   "source": [
    "Nota: la dirección de la Interfaz del usuario de la aplicación, para este caso, es la siguiente: http://192.168.1.69:4040/jobs/job/?id=0, donde la ip del master es la local (192.168.1.69). La aplicación de Spark siempre se abre en el puerto 4040, si y solo si las sesiones previas de Spark ya fueron cerradas previamente, de lo contrario se utilizara otro puerto."
   ]
  },
  {
   "cell_type": "markdown",
   "metadata": {},
   "source": [
    "### Fin de la lección 13"
   ]
  },
  {
   "cell_type": "markdown",
   "metadata": {},
   "source": [
    "### Lección 14: Inferencia de tipos de datos."
   ]
  },
  {
   "cell_type": "markdown",
   "metadata": {},
   "source": [
    "En esta lección vamos a crear un Dataframe a partir de un RDD existente, para esto vamos a recrear un RDD (ver la lección 9)\n",
    "\n",
    "**Nota** : Es recomendable que el origen de los DF sean los archivos y no RDDs."
   ]
  },
  {
   "cell_type": "code",
   "execution_count": 12,
   "metadata": {},
   "outputs": [],
   "source": [
    "deportistaOlimpicoRDD = spark.textFile(path + \"deportista.csv\")\\\n",
    "    .map(lambda l : l.split(\",\"))\n",
    "deportistaOlimpicoRDD2 = spark.textFile(path + \"deportista2.csv\")\\\n",
    "    .map(lambda l : l.split(\",\"))"
   ]
  },
  {
   "cell_type": "code",
   "execution_count": 13,
   "metadata": {},
   "outputs": [
    {
     "data": {
      "text/plain": [
       "135572"
      ]
     },
     "execution_count": 13,
     "metadata": {},
     "output_type": "execute_result"
    }
   ],
   "source": [
    "DF_From_RDD = deportistaOlimpicoRDD.union(deportistaOlimpicoRDD2)\n",
    "DF_From_RDD.count()"
   ]
  },
  {
   "cell_type": "markdown",
   "metadata": {},
   "source": [
    "Primero vamos a eliminar el encabezado del RDD con una función especializada:"
   ]
  },
  {
   "cell_type": "code",
   "execution_count": 14,
   "metadata": {},
   "outputs": [],
   "source": [
    "def eliminaEncabezado(indice, interador):\n",
    "    return iter(list(interador)[1:])"
   ]
  },
  {
   "cell_type": "code",
   "execution_count": 15,
   "metadata": {},
   "outputs": [],
   "source": [
    "DF_From_RDD = DF_From_RDD.mapPartitionsWithIndex(eliminaEncabezado)"
   ]
  },
  {
   "cell_type": "code",
   "execution_count": 16,
   "metadata": {
    "scrolled": true
   },
   "outputs": [
    {
     "data": {
      "text/plain": [
       "[['1', 'A Dijiang', '1', '24', '180', '80', '199'],\n",
       " ['2', 'A Lamusi', '1', '23', '170', '60', '199'],\n",
       " ['3', 'Gunnar Nielsen Aaby', '1', '24', '0', '0', '273'],\n",
       " ['4', 'Edgar Lindenau Aabye', '1', '34', '0', '0', '278'],\n",
       " ['5', 'Christine Jacoba Aaftink', '2', '21', '185', '82', '705']]"
      ]
     },
     "execution_count": 16,
     "metadata": {},
     "output_type": "execute_result"
    }
   ],
   "source": [
    "DF_From_RDD.take(5)"
   ]
  },
  {
   "cell_type": "markdown",
   "metadata": {},
   "source": [
    "Procederemos a convertir los tipos de cada campo del RDD"
   ]
  },
  {
   "cell_type": "code",
   "execution_count": 17,
   "metadata": {},
   "outputs": [],
   "source": [
    "DF_From_RDD = DF_From_RDD.map(lambda l :(\n",
    "    int(l[0]),\n",
    "    l[1],\n",
    "    int(l[2]),\n",
    "    int(l[3]),\n",
    "    int(l[4]),\n",
    "    float(l[5]),\n",
    "    int(l[6])\n",
    "))"
   ]
  },
  {
   "cell_type": "markdown",
   "metadata": {},
   "source": [
    "Luego crearemos el esquema, que es la definición del DataFrame"
   ]
  },
  {
   "cell_type": "code",
   "execution_count": 18,
   "metadata": {},
   "outputs": [],
   "source": [
    "schemaDeportistaOlimpico = StructType([\n",
    "    StructField(\"deportista_id\", IntegerType(),False),\n",
    "    StructField(\"nombre\", StringType(), False),\n",
    "    StructField(\"genero\", IntegerType(), False),\n",
    "    StructField(\"edad\", IntegerType(), False),\n",
    "    StructField(\"altura\", IntegerType(), False),\n",
    "    StructField(\"peso\", FloatType(), False),\n",
    "    StructField(\"equipo_id\", IntegerType(), False),\n",
    "])"
   ]
  },
  {
   "cell_type": "markdown",
   "metadata": {},
   "source": [
    "Por último, pasaremos los argumentos necesarios para crear el DF a partir del RDD"
   ]
  },
  {
   "cell_type": "code",
   "execution_count": 19,
   "metadata": {},
   "outputs": [],
   "source": [
    "deportistaOlimpicoDF_demo = sqlContext\\\n",
    "                        .createDataFrame(DF_From_RDD, schemaDeportistaOlimpico)"
   ]
  },
  {
   "cell_type": "code",
   "execution_count": 20,
   "metadata": {},
   "outputs": [
    {
     "data": {
      "text/plain": [
       "135570"
      ]
     },
     "execution_count": 20,
     "metadata": {},
     "output_type": "execute_result"
    }
   ],
   "source": [
    "deportistaOlimpicoDF_demo.count()"
   ]
  },
  {
   "cell_type": "markdown",
   "metadata": {},
   "source": [
    "Recuerda guardar las estructuras omitiendo los metodos de visualización, como ```show``` y ```take```"
   ]
  },
  {
   "cell_type": "markdown",
   "metadata": {},
   "source": [
    "Ahora debemos transformar los RDDs pasados en DF (incluyendo Deportistas olimpicos desde archivo)"
   ]
  },
  {
   "cell_type": "code",
   "execution_count": 21,
   "metadata": {},
   "outputs": [],
   "source": [
    "deportistaOlimpicoDF_pt1 = sqlContext.read.schema(schemaDeportistaOlimpico)\\\n",
    "    .option(\"header\",\"true\").csv(path + \"deportista.csv\")"
   ]
  },
  {
   "cell_type": "code",
   "execution_count": 22,
   "metadata": {},
   "outputs": [],
   "source": [
    "deportistaOlimpicoDF_pt2 = sqlContext.read.schema(schemaDeportistaOlimpico)\\\n",
    "    .option(\"header\",\"true\").csv(path + \"deportista2.csv\")"
   ]
  },
  {
   "cell_type": "code",
   "execution_count": 23,
   "metadata": {
    "scrolled": true
   },
   "outputs": [
    {
     "data": {
      "text/plain": [
       "135570"
      ]
     },
     "execution_count": 23,
     "metadata": {},
     "output_type": "execute_result"
    }
   ],
   "source": [
    "deportistaOlimpicoDF=deportistaOlimpicoDF_pt1.union(deportistaOlimpicoDF_pt2)\n",
    "deportistaOlimpicoDF.count()"
   ]
  },
  {
   "cell_type": "code",
   "execution_count": 24,
   "metadata": {},
   "outputs": [],
   "source": [
    "schemaequiposOlimpicos = StructType([\n",
    "    StructField(\"equipo_id\", IntegerType(),False),\n",
    "    StructField(\"nombre_equipo\", StringType(), False),\n",
    "    StructField(\"pais\", StringType(), False)\n",
    "])"
   ]
  },
  {
   "cell_type": "code",
   "execution_count": 25,
   "metadata": {},
   "outputs": [],
   "source": [
    "paisesDF = sqlContext.read.schema(schemaequiposOlimpicos)\\\n",
    "    .option(\"header\",\"true\").csv(path + \"paises.csv\")"
   ]
  },
  {
   "cell_type": "code",
   "execution_count": 26,
   "metadata": {},
   "outputs": [],
   "source": [
    "schemaResultado = StructType([\n",
    "    StructField(\"resultado_id\", IntegerType(),False),\n",
    "    StructField(\"medalla\", StringType(), False),\n",
    "    StructField(\"deportista_id\", IntegerType(), False),\n",
    "    StructField(\"juego_id\", IntegerType(), False),\n",
    "    StructField(\"evento_id\", IntegerType(), False)\n",
    "])"
   ]
  },
  {
   "cell_type": "code",
   "execution_count": 27,
   "metadata": {},
   "outputs": [],
   "source": [
    "resultadoDF = sqlContext.read.schema(schemaResultado)\\\n",
    "    .option(\"header\",\"true\").csv(path + \"resultados.csv\")"
   ]
  },
  {
   "cell_type": "markdown",
   "metadata": {},
   "source": [
    "### Fin de la lección 14"
   ]
  },
  {
   "cell_type": "markdown",
   "metadata": {},
   "source": [
    "### Lección 15: Operaciones sobre DF."
   ]
  },
  {
   "cell_type": "markdown",
   "metadata": {},
   "source": [
    "Faltaron cargar algunos DF, cargaremos estas estructuras desde los archivos. "
   ]
  },
  {
   "cell_type": "code",
   "execution_count": 28,
   "metadata": {
    "scrolled": true
   },
   "outputs": [
    {
     "name": "stdout",
     "output_type": "stream",
     "text": [
      "deporte_id,deporte\r\n",
      "1,Basketball\r\n",
      "2,Judo\r\n",
      "3,Football\r\n",
      "4,Tug-Of-War\r\n"
     ]
    }
   ],
   "source": [
    "#!ls ./files/\n",
    "!head -n 5 ./files/deporte.csv"
   ]
  },
  {
   "cell_type": "code",
   "execution_count": 29,
   "metadata": {},
   "outputs": [],
   "source": [
    "deporteSchema = StructType([\n",
    "    StructField(\"deporte_id\", IntegerType(),False),\n",
    "    StructField(\"deporte\", StringType(), False)\n",
    "])"
   ]
  },
  {
   "cell_type": "code",
   "execution_count": 30,
   "metadata": {},
   "outputs": [],
   "source": [
    "deportesDF = sqlContext.read.schema(deporteSchema)\\\n",
    "    .option(\"header\",\"true\").csv(path + \"deporte.csv\")"
   ]
  },
  {
   "cell_type": "code",
   "execution_count": 31,
   "metadata": {
    "scrolled": false
   },
   "outputs": [
    {
     "name": "stdout",
     "output_type": "stream",
     "text": [
      "+----------+----------+\n",
      "|deporte_id|   deporte|\n",
      "+----------+----------+\n",
      "|         1|Basketball|\n",
      "|         2|      Judo|\n",
      "|         3|  Football|\n",
      "|         4|Tug-Of-War|\n",
      "+----------+----------+\n",
      "only showing top 4 rows\n",
      "\n"
     ]
    }
   ],
   "source": [
    "deportesDF.show(4)"
   ]
  },
  {
   "cell_type": "code",
   "execution_count": 32,
   "metadata": {
    "scrolled": true
   },
   "outputs": [
    {
     "name": "stdout",
     "output_type": "stream",
     "text": [
      "evento_id,evento,deporte_id\r\n",
      "1,Basketball Men's Basketball,1\r\n",
      "2,Judo Men's Extra-Lightweight,2\r\n",
      "3,Football Men's Football,3\r\n",
      "4,Tug-Of-War Men's Tug-Of-War,4\r\n"
     ]
    }
   ],
   "source": [
    "#!ls ./files/\n",
    "!head -n 5 ./files/evento.csv"
   ]
  },
  {
   "cell_type": "code",
   "execution_count": 33,
   "metadata": {},
   "outputs": [],
   "source": [
    "eventoSchema = StructType([\n",
    "    StructField(\"evento_id\", IntegerType(),False),\n",
    "    StructField(\"evento\", StringType(), False),\n",
    "    StructField(\"deporte_id\", IntegerType(), False)\n",
    "])"
   ]
  },
  {
   "cell_type": "code",
   "execution_count": 34,
   "metadata": {},
   "outputs": [],
   "source": [
    "deportesOlimpicosDF = sqlContext.read.schema(eventoSchema)\\\n",
    "    .option(\"header\",\"true\").csv(path + \"evento.csv\")"
   ]
  },
  {
   "cell_type": "code",
   "execution_count": 35,
   "metadata": {
    "scrolled": false
   },
   "outputs": [
    {
     "name": "stdout",
     "output_type": "stream",
     "text": [
      "+---------+--------------------+----------+\n",
      "|evento_id|              evento|deporte_id|\n",
      "+---------+--------------------+----------+\n",
      "|        1|Basketball Men's ...|         1|\n",
      "|        2|Judo Men's Extra-...|         2|\n",
      "|        3|Football Men's Fo...|         3|\n",
      "|        4|Tug-Of-War Men's ...|         4|\n",
      "+---------+--------------------+----------+\n",
      "only showing top 4 rows\n",
      "\n"
     ]
    }
   ],
   "source": [
    "deportesOlimpicosDF.show(4)"
   ]
  },
  {
   "cell_type": "markdown",
   "metadata": {},
   "source": [
    "Para mostrar el esquema de un DF, necesitamos hacer uso del método ```printSchema```"
   ]
  },
  {
   "cell_type": "code",
   "execution_count": 36,
   "metadata": {
    "scrolled": true
   },
   "outputs": [
    {
     "name": "stdout",
     "output_type": "stream",
     "text": [
      "root\n",
      " |-- deporte_id: integer (nullable = true)\n",
      " |-- deporte: string (nullable = true)\n",
      "\n"
     ]
    }
   ],
   "source": [
    "deportesDF.printSchema()"
   ]
  },
  {
   "cell_type": "code",
   "execution_count": 37,
   "metadata": {
    "scrolled": true
   },
   "outputs": [
    {
     "name": "stdout",
     "output_type": "stream",
     "text": [
      "root\n",
      " |-- deportista_id: integer (nullable = true)\n",
      " |-- nombre: string (nullable = true)\n",
      " |-- genero: integer (nullable = true)\n",
      " |-- edad: integer (nullable = true)\n",
      " |-- altura: integer (nullable = true)\n",
      " |-- peso: float (nullable = true)\n",
      " |-- equipo_id: integer (nullable = true)\n",
      "\n"
     ]
    }
   ],
   "source": [
    "deportistaOlimpicoDF.printSchema()"
   ]
  },
  {
   "cell_type": "markdown",
   "metadata": {},
   "source": [
    "Para renmbrar columnas, necesitamos seguir los siguientes pasos"
   ]
  },
  {
   "cell_type": "code",
   "execution_count": 38,
   "metadata": {},
   "outputs": [],
   "source": [
    "deportistaOlimpicoDF = deportistaOlimpicoDF.withColumnRenamed(\"genero\",\"sexo\").drop(\"altura\")"
   ]
  },
  {
   "cell_type": "markdown",
   "metadata": {},
   "source": [
    "Con el método ```drop``` eliminas un campo, y cone método ```withColumnRenamed``` cambias el encabezado de alguna de las columnas."
   ]
  },
  {
   "cell_type": "markdown",
   "metadata": {},
   "source": [
    "### Recuerda:\n",
    "Todos los elementos de la estructura (DF) son inmutables, por lo que estas acciones deben guardarse en otra variable, o en la misma variable si se desean efectuar los cambios."
   ]
  },
  {
   "cell_type": "code",
   "execution_count": 39,
   "metadata": {
    "scrolled": false
   },
   "outputs": [
    {
     "name": "stdout",
     "output_type": "stream",
     "text": [
      "root\n",
      " |-- deportista_id: integer (nullable = true)\n",
      " |-- nombre: string (nullable = true)\n",
      " |-- sexo: integer (nullable = true)\n",
      " |-- edad: integer (nullable = true)\n",
      " |-- peso: float (nullable = true)\n",
      " |-- equipo_id: integer (nullable = true)\n",
      "\n"
     ]
    }
   ],
   "source": [
    "deportistaOlimpicoDF.printSchema()"
   ]
  },
  {
   "cell_type": "markdown",
   "metadata": {},
   "source": [
    "Ahora vamos a importar un método desde pyspark.sql llamado col, que nos permitirá, entre otras cosas, renombrar  una columna (Como en el ejemplo anterior)"
   ]
  },
  {
   "cell_type": "code",
   "execution_count": 40,
   "metadata": {},
   "outputs": [],
   "source": [
    "from pyspark.sql.functions import *"
   ]
  },
  {
   "cell_type": "code",
   "execution_count": 41,
   "metadata": {
    "scrolled": true
   },
   "outputs": [],
   "source": [
    "deportistaOlimpicoDF=deportistaOlimpicoDF.select(\"deportista_id\",\"nombre\",\n",
    "                            col(\"edad\").alias(\"edad_al_jugar\"),\"equipo_id\")"
   ]
  },
  {
   "cell_type": "code",
   "execution_count": 42,
   "metadata": {
    "scrolled": true
   },
   "outputs": [
    {
     "name": "stdout",
     "output_type": "stream",
     "text": [
      "+-------------+--------------------+-------------+---------+\n",
      "|deportista_id|              nombre|edad_al_jugar|equipo_id|\n",
      "+-------------+--------------------+-------------+---------+\n",
      "|            1|           A Dijiang|           24|      199|\n",
      "|            2|            A Lamusi|           23|      199|\n",
      "|            3| Gunnar Nielsen Aaby|           24|      273|\n",
      "|            4|Edgar Lindenau Aabye|           34|      278|\n",
      "|            5|Christine Jacoba ...|           21|      705|\n",
      "+-------------+--------------------+-------------+---------+\n",
      "only showing top 5 rows\n",
      "\n"
     ]
    }
   ],
   "source": [
    "deportistaOlimpicoDF.show(5)"
   ]
  },
  {
   "cell_type": "code",
   "execution_count": 43,
   "metadata": {},
   "outputs": [
    {
     "name": "stdout",
     "output_type": "stream",
     "text": [
      "+-------------+--------------------+-------------+---------+\n",
      "|deportista_id|              nombre|edad_al_jugar|equipo_id|\n",
      "+-------------+--------------------+-------------+---------+\n",
      "|          224|     Mohamed AbdelEl|            0|      308|\n",
      "|          487|      Inni Aboubacar|            0|      721|\n",
      "|          226|Sanad Bushara Abd...|            0|     1003|\n",
      "|           58|    Georgi Abadzhiev|            0|      154|\n",
      "|          230|    Moustafa Abdelal|            0|      308|\n",
      "|          102|   Sayed Fahmy Abaza|            0|      308|\n",
      "|          260|  Ahmed Abdo Mustafa|            0|     1003|\n",
      "|          139|George Ioannis Abbot|            0|     1043|\n",
      "|          281|      S. Abdul Hamid|            0|      487|\n",
      "|          163|     Ismail Abdallah|            0|     1095|\n",
      "|          285|Talal Hassoun Abd...|            0|      497|\n",
      "|          173| Mohamed Abdel Fatah|            0|     1003|\n",
      "|          179|Ibrahim Saad Abde...|            0|     1003|\n",
      "|          378|     Angelik Abebame|            0|        0|\n",
      "|          294|Mohamed Ghulom Ab...|            0|       81|\n",
      "|          186| Mohamed Abdel Hafiz|            0|     1095|\n",
      "|          300|     A. Abdul Razzak|            0|      497|\n",
      "|          190| Ibrahim Abdel Hamid|            0|      308|\n",
      "|          301|Mohamed Abdul Razzak|            0|      497|\n",
      "|          209|Ibrahim Abdel Rahman|            0|     1095|\n",
      "+-------------+--------------------+-------------+---------+\n",
      "only showing top 20 rows\n",
      "\n"
     ]
    }
   ],
   "source": [
    "deportistaOlimpicoDF.sort(\"edad_al_jugar\").show()"
   ]
  },
  {
   "cell_type": "markdown",
   "metadata": {},
   "source": [
    "En la tabla anterior podemos observar que hay jugadores con edad 0. Esto es absurdo, ya que la edad 0 es un método para llenar valores no disponibles. \n",
    "\n",
    "A continuación vamos a limpiar nuesto DF con un filtro."
   ]
  },
  {
   "cell_type": "code",
   "execution_count": 44,
   "metadata": {},
   "outputs": [],
   "source": [
    "deportistaOlimpicoDF= deportistaOlimpicoDF.filter((deportistaOlimpicoDF.edad_al_jugar != 0))"
   ]
  },
  {
   "cell_type": "code",
   "execution_count": 45,
   "metadata": {},
   "outputs": [
    {
     "name": "stdout",
     "output_type": "stream",
     "text": [
      "+-------------+--------------------+-------------+---------+\n",
      "|deportista_id|              nombre|edad_al_jugar|equipo_id|\n",
      "+-------------+--------------------+-------------+---------+\n",
      "|        71691|  Dimitrios Loundras|           10|      333|\n",
      "|        70616|          Liu Luyang|           11|      199|\n",
      "|       118925|Megan Olwen Deven...|           11|      413|\n",
      "|        52070|        Etsuko Inada|           11|      514|\n",
      "|        22411|Magdalena Cecilia...|           11|      413|\n",
      "|        40129|    Luigina Giavotti|           11|      507|\n",
      "|        47618|Sonja Henie Toppi...|           11|      742|\n",
      "|        76675|   Marcelle Matthews|           11|      967|\n",
      "|        37333|Carlos Bienvenido...|           11|      982|\n",
      "|        51268|      Beatrice Hutiu|           11|      861|\n",
      "|       126307|        Liana Vicens|           11|      825|\n",
      "|        48939|             Ho Gang|           12|      738|\n",
      "|        49142|        Jan Hoffmann|           12|      302|\n",
      "|        42835|   Werner Grieshofer|           12|       71|\n",
      "|        54620|Belita Gladys Lyn...|           12|      413|\n",
      "|        31203|Patricia Anne Pat...|           12|      967|\n",
      "|        43528|Antoinette Joyce ...|           12|      172|\n",
      "|        46578|        Diana Hatler|           12|      825|\n",
      "|        59727|Marika Kilius Zah...|           12|      399|\n",
      "|        40296|    Alain C. Giletti|           12|      362|\n",
      "+-------------+--------------------+-------------+---------+\n",
      "only showing top 20 rows\n",
      "\n"
     ]
    }
   ],
   "source": [
    "deportistaOlimpicoDF.sort(\"edad_al_jugar\").show()"
   ]
  },
  {
   "cell_type": "markdown",
   "metadata": {},
   "source": [
    "### Fin de la lección 15"
   ]
  },
  {
   "cell_type": "markdown",
   "metadata": {},
   "source": [
    "### Lección 16: Agrupaciones y operaciones join sobre DF"
   ]
  },
  {
   "cell_type": "markdown",
   "metadata": {},
   "source": [
    "Ahora estamos validando las definiciones de algunos DF"
   ]
  },
  {
   "cell_type": "code",
   "execution_count": 46,
   "metadata": {},
   "outputs": [
    {
     "name": "stdout",
     "output_type": "stream",
     "text": [
      "root\n",
      " |-- deportista_id: integer (nullable = true)\n",
      " |-- nombre: string (nullable = true)\n",
      " |-- edad_al_jugar: integer (nullable = true)\n",
      " |-- equipo_id: integer (nullable = true)\n",
      "\n"
     ]
    }
   ],
   "source": [
    "deportistaOlimpicoDF.printSchema()"
   ]
  },
  {
   "cell_type": "code",
   "execution_count": 47,
   "metadata": {},
   "outputs": [
    {
     "name": "stdout",
     "output_type": "stream",
     "text": [
      "root\n",
      " |-- resultado_id: integer (nullable = true)\n",
      " |-- medalla: string (nullable = true)\n",
      " |-- deportista_id: integer (nullable = true)\n",
      " |-- juego_id: integer (nullable = true)\n",
      " |-- evento_id: integer (nullable = true)\n",
      "\n"
     ]
    }
   ],
   "source": [
    "resultadoDF.printSchema()"
   ]
  },
  {
   "cell_type": "code",
   "execution_count": 48,
   "metadata": {},
   "outputs": [
    {
     "name": "stdout",
     "output_type": "stream",
     "text": [
      "root\n",
      " |-- juego_id: integer (nullable = true)\n",
      " |-- year: string (nullable = true)\n",
      " |-- temporada: string (nullable = true)\n",
      " |-- ciudad: string (nullable = true)\n",
      "\n"
     ]
    }
   ],
   "source": [
    "juegoDF.printSchema()"
   ]
  },
  {
   "cell_type": "code",
   "execution_count": 49,
   "metadata": {},
   "outputs": [],
   "source": [
    "#juegoDF=juegoDF.select(\"juego_id\",\n",
    "#                            col(\"year\").alias(\"anio\"),\"temporada\",\"ciudad\")"
   ]
  },
  {
   "cell_type": "code",
   "execution_count": 50,
   "metadata": {},
   "outputs": [],
   "source": [
    "#juegoDF.printSchema()"
   ]
  },
  {
   "cell_type": "code",
   "execution_count": 51,
   "metadata": {},
   "outputs": [],
   "source": [
    "deportesOlimpicosDF=deportesOlimpicosDF.select(\"evento_id\",\n",
    "                            col(\"evento\").alias(\"Nombre_de_disciplina\"),\"deporte_id\")"
   ]
  },
  {
   "cell_type": "code",
   "execution_count": 52,
   "metadata": {},
   "outputs": [
    {
     "name": "stdout",
     "output_type": "stream",
     "text": [
      "root\n",
      " |-- evento_id: integer (nullable = true)\n",
      " |-- Nombre_de_disciplina: string (nullable = true)\n",
      " |-- deporte_id: integer (nullable = true)\n",
      "\n"
     ]
    }
   ],
   "source": [
    "deportesOlimpicosDF.printSchema()"
   ]
  },
  {
   "cell_type": "code",
   "execution_count": 53,
   "metadata": {
    "scrolled": true
   },
   "outputs": [
    {
     "name": "stdout",
     "output_type": "stream",
     "text": [
      "root\n",
      " |-- deportista_id: integer (nullable = true)\n",
      " |-- nombre: string (nullable = true)\n",
      " |-- edad_al_jugar: integer (nullable = true)\n",
      " |-- equipo_id: integer (nullable = true)\n",
      "\n"
     ]
    }
   ],
   "source": [
    "deportistaOlimpicoDF.printSchema()"
   ]
  },
  {
   "cell_type": "markdown",
   "metadata": {},
   "source": [
    "Una vez que expusimos los esquemas, ahora procederemos a hacer un join entre dos DF"
   ]
  },
  {
   "cell_type": "code",
   "execution_count": 54,
   "metadata": {
    "scrolled": false
   },
   "outputs": [],
   "source": [
    "demoDF = deportistaOlimpicoDF.\\\n",
    "            join(resultadoDF,\\\n",
    "                 deportistaOlimpicoDF.deportista_id == resultadoDF.deportista_id,\"left\").\\\n",
    "            join(juegoDF,juegoDF.juego_id == resultadoDF.juego_id,\"left\").\\\n",
    "            join(deportesOlimpicosDF,\\\n",
    "            deportesOlimpicosDF.evento_id == resultadoDF.evento_id,\"left\").\\\n",
    "            select(deportistaOlimpicoDF.nombre,deportistaOlimpicoDF.edad_al_jugar,\\\n",
    "                   resultadoDF.medalla,juegoDF.year,deportesOlimpicosDF.Nombre_de_disciplina)"
   ]
  },
  {
   "cell_type": "code",
   "execution_count": 55,
   "metadata": {},
   "outputs": [
    {
     "name": "stdout",
     "output_type": "stream",
     "text": [
      "+--------------------+-------------+-------+-------------+--------------------+\n",
      "|              nombre|edad_al_jugar|medalla|         year|Nombre_de_disciplina|\n",
      "+--------------------+-------------+-------+-------------+--------------------+\n",
      "|           A Dijiang|           24|     NA|  1992 Verano|Basketball Men's ...|\n",
      "|            A Lamusi|           23|     NA|  2012 Verano|Judo Men's Extra-...|\n",
      "| Gunnar Nielsen Aaby|           24|     NA|  1920 Verano|Football Men's Fo...|\n",
      "|Edgar Lindenau Aabye|           34|   Gold|  1900 Verano|Tug-Of-War Men's ...|\n",
      "|Christine Jacoba ...|           21|     NA|1994 Invierno|Speed Skating Wom...|\n",
      "|Christine Jacoba ...|           21|     NA|1994 Invierno|Speed Skating Wom...|\n",
      "|Christine Jacoba ...|           21|     NA|1992 Invierno|Speed Skating Wom...|\n",
      "|Christine Jacoba ...|           21|     NA|1992 Invierno|Speed Skating Wom...|\n",
      "|Christine Jacoba ...|           21|     NA|1988 Invierno|Speed Skating Wom...|\n",
      "|Christine Jacoba ...|           21|     NA|1988 Invierno|Speed Skating Wom...|\n",
      "|     Per Knut Aaland|           31|     NA|1994 Invierno|Cross Country Ski...|\n",
      "|     Per Knut Aaland|           31|     NA|1994 Invierno|Cross Country Ski...|\n",
      "|     Per Knut Aaland|           31|     NA|1994 Invierno|Cross Country Ski...|\n",
      "|     Per Knut Aaland|           31|     NA|1994 Invierno|Cross Country Ski...|\n",
      "|     Per Knut Aaland|           31|     NA|1992 Invierno|Cross Country Ski...|\n",
      "|     Per Knut Aaland|           31|     NA|1992 Invierno|Cross Country Ski...|\n",
      "|     Per Knut Aaland|           31|     NA|1992 Invierno|Cross Country Ski...|\n",
      "|     Per Knut Aaland|           31|     NA|1992 Invierno|Cross Country Ski...|\n",
      "|        John Aalberg|           31|     NA|1994 Invierno|Cross Country Ski...|\n",
      "|        John Aalberg|           31|     NA|1994 Invierno|Cross Country Ski...|\n",
      "+--------------------+-------------+-------+-------------+--------------------+\n",
      "only showing top 20 rows\n",
      "\n"
     ]
    }
   ],
   "source": [
    "demoDF.show()"
   ]
  },
  {
   "cell_type": "markdown",
   "metadata": {},
   "source": [
    "**Nota:** Hay un error cuando los origenes de los DF no son los archivos. El error ocurre cuando el origen de los DF no es el mismo, la solución es crear todos los DF desde una misma fuente (archivos CSV)."
   ]
  },
  {
   "cell_type": "markdown",
   "metadata": {},
   "source": [
    "### Fin la lección 16"
   ]
  },
  {
   "cell_type": "markdown",
   "metadata": {},
   "source": [
    "### Lección 17: Solución al reto de joins."
   ]
  },
  {
   "cell_type": "code",
   "execution_count": 56,
   "metadata": {
    "scrolled": true
   },
   "outputs": [
    {
     "name": "stdout",
     "output_type": "stream",
     "text": [
      "+-------+-------------+----+\n",
      "|medalla|nombre_equipo|pais|\n",
      "+-------+-------------+----+\n",
      "|   Gold|     Zimbabwe| ZIM|\n",
      "|   Gold|     Zimbabwe| ZIM|\n",
      "|   Gold|     Zimbabwe| ZIM|\n",
      "| Silver|     Zimbabwe| ZIM|\n",
      "|   Gold|     Zimbabwe| ZIM|\n",
      "| Bronze|     Zimbabwe| ZIM|\n",
      "| Silver|     Zimbabwe| ZIM|\n",
      "|   Gold|     Zimbabwe| ZIM|\n",
      "| Silver|     Zimbabwe| ZIM|\n",
      "| Silver|     Zimbabwe| ZIM|\n",
      "|   Gold|     Zimbabwe| ZIM|\n",
      "|   Gold|     Zimbabwe| ZIM|\n",
      "|   Gold|     Zimbabwe| ZIM|\n",
      "|   Gold|     Zimbabwe| ZIM|\n",
      "|   Gold|     Zimbabwe| ZIM|\n",
      "|   Gold|     Zimbabwe| ZIM|\n",
      "|   Gold|     Zimbabwe| ZIM|\n",
      "|   Gold|     Zimbabwe| ZIM|\n",
      "|   Gold|     Zimbabwe| ZIM|\n",
      "|   Gold|     Zimbabwe| ZIM|\n",
      "+-------+-------------+----+\n",
      "only showing top 20 rows\n",
      "\n"
     ]
    }
   ],
   "source": [
    "resultadoDF.filter(resultadoDF.medalla != \"NA\")\\\n",
    "    .join(deportistaOlimpicoDF,deportistaOlimpicoDF.deportista_id == resultadoDF.deportista_id,\"left\")\\\n",
    "    .join(paisesDF,paisesDF.equipo_id == deportistaOlimpicoDF.equipo_id,\"left\")\\\n",
    "    .select(\"medalla\",\"nombre_equipo\",\"pais\").sort(col(\"pais\").desc()).show()"
   ]
  },
  {
   "cell_type": "markdown",
   "metadata": {},
   "source": [
    "### Fin de la lección 17."
   ]
  },
  {
   "cell_type": "markdown",
   "metadata": {},
   "source": [
    "### Lección 18: Funciones de Agrupación."
   ]
  },
  {
   "cell_type": "code",
   "execution_count": 57,
   "metadata": {},
   "outputs": [],
   "source": [
    "medallistaXAnio = deportistaOlimpicoDF \\\n",
    "    .join(\n",
    "        resultadoDF, \n",
    "        deportistaOlimpicoDF.deportista_id == resultadoDF.deportista_id, \n",
    "        \"left\"\n",
    "    ) \\\n",
    "    .join(\n",
    "        juegoDF, \n",
    "        juegoDF.juego_id == resultadoDF.juego_id, \n",
    "        \"left\"\n",
    "    ) \\\n",
    "    .join(\n",
    "        paisesDF, \n",
    "        deportistaOlimpicoDF.equipo_id == paisesDF.equipo_id, \n",
    "        \"left\"\n",
    "    ) \\\n",
    "    .join(\n",
    "        deportesOlimpicosDF, \n",
    "        deportesOlimpicosDF.evento_id == resultadoDF.evento_id, \n",
    "        \"left\"\n",
    "    ) \\\n",
    "    .join(\n",
    "        deportesDF, \n",
    "        deportesOlimpicosDF.deporte_id == deportesDF.deporte_id, \n",
    "        \"left\"\n",
    "    ) \\\n",
    "    .select(\n",
    "        \"pais\",\n",
    "        \"year\",\n",
    "        \"medalla\",\n",
    "        deportesOlimpicosDF.Nombre_de_disciplina.alias(\"Nombre_Subdisciplina\"),\n",
    "        deportesDF.deporte.alias(\"Nombre disciplina\"),\n",
    "        deportistaOlimpicoDF.nombre    \n",
    "    )"
   ]
  },
  {
   "cell_type": "code",
   "execution_count": 58,
   "metadata": {},
   "outputs": [
    {
     "name": "stdout",
     "output_type": "stream",
     "text": [
      "+----+-------------+-------+--------------------+--------------------+--------------------+\n",
      "|pais|         year|medalla|Nombre_Subdisciplina|   Nombre disciplina|              nombre|\n",
      "+----+-------------+-------+--------------------+--------------------+--------------------+\n",
      "| CHN|  1992 Verano|     NA|Basketball Men's ...|          Basketball|           A Dijiang|\n",
      "| CHN|  2012 Verano|     NA|Judo Men's Extra-...|                Judo|            A Lamusi|\n",
      "| DEN|  1920 Verano|     NA|Football Men's Fo...|            Football| Gunnar Nielsen Aaby|\n",
      "| SWE|  1900 Verano|   Gold|Tug-Of-War Men's ...|          Tug-Of-War|Edgar Lindenau Aabye|\n",
      "| NED|1994 Invierno|     NA|Speed Skating Wom...|       Speed Skating|Christine Jacoba ...|\n",
      "| NED|1994 Invierno|     NA|Speed Skating Wom...|       Speed Skating|Christine Jacoba ...|\n",
      "| NED|1992 Invierno|     NA|Speed Skating Wom...|       Speed Skating|Christine Jacoba ...|\n",
      "| NED|1992 Invierno|     NA|Speed Skating Wom...|       Speed Skating|Christine Jacoba ...|\n",
      "| NED|1988 Invierno|     NA|Speed Skating Wom...|       Speed Skating|Christine Jacoba ...|\n",
      "| NED|1988 Invierno|     NA|Speed Skating Wom...|       Speed Skating|Christine Jacoba ...|\n",
      "| USA|1994 Invierno|     NA|Cross Country Ski...|Cross Country Skiing|     Per Knut Aaland|\n",
      "| USA|1994 Invierno|     NA|Cross Country Ski...|Cross Country Skiing|     Per Knut Aaland|\n",
      "| USA|1994 Invierno|     NA|Cross Country Ski...|Cross Country Skiing|     Per Knut Aaland|\n",
      "| USA|1994 Invierno|     NA|Cross Country Ski...|Cross Country Skiing|     Per Knut Aaland|\n",
      "| USA|1992 Invierno|     NA|Cross Country Ski...|Cross Country Skiing|     Per Knut Aaland|\n",
      "| USA|1992 Invierno|     NA|Cross Country Ski...|Cross Country Skiing|     Per Knut Aaland|\n",
      "| USA|1992 Invierno|     NA|Cross Country Ski...|Cross Country Skiing|     Per Knut Aaland|\n",
      "| USA|1992 Invierno|     NA|Cross Country Ski...|Cross Country Skiing|     Per Knut Aaland|\n",
      "| USA|1994 Invierno|     NA|Cross Country Ski...|Cross Country Skiing|        John Aalberg|\n",
      "| USA|1994 Invierno|     NA|Cross Country Ski...|Cross Country Skiing|        John Aalberg|\n",
      "+----+-------------+-------+--------------------+--------------------+--------------------+\n",
      "only showing top 20 rows\n",
      "\n"
     ]
    }
   ],
   "source": [
    "medallistaXAnio.show()"
   ]
  },
  {
   "cell_type": "code",
   "execution_count": 59,
   "metadata": {},
   "outputs": [],
   "source": [
    "medallistaXAnio2 = medallistaXAnio.filter(medallistaXAnio.medalla != \"NA\")\\\n",
    "    .sort(\"year\")\\\n",
    "    .groupby(\"pais\", \"year\", \"Nombre_Subdisciplina\")\\\n",
    "    .count()"
   ]
  },
  {
   "cell_type": "code",
   "execution_count": 60,
   "metadata": {},
   "outputs": [
    {
     "name": "stdout",
     "output_type": "stream",
     "text": [
      "root\n",
      " |-- pais: string (nullable = true)\n",
      " |-- year: string (nullable = true)\n",
      " |-- Nombre_Subdisciplina: string (nullable = true)\n",
      " |-- count: long (nullable = false)\n",
      "\n"
     ]
    }
   ],
   "source": [
    "medallistaXAnio2.printSchema()"
   ]
  },
  {
   "cell_type": "markdown",
   "metadata": {},
   "source": [
    "Esta manera de agrupar no es muy recomendadad, debido a que Python asigna un tipo \"long\" al resultado de conteo. A continuación se muestra la manera màs recomendadaa de hacer una agrupación."
   ]
  },
  {
   "cell_type": "code",
   "execution_count": 61,
   "metadata": {},
   "outputs": [
    {
     "name": "stdout",
     "output_type": "stream",
     "text": [
      "+----+-----------+-----------------+------------------+\n",
      "|pais|       year|Total de medallas| Medallas promedio|\n",
      "+----+-----------+-----------------+------------------+\n",
      "| USA|1896 Verano|               20|1.6666666666666667|\n",
      "| GER|1896 Verano|               30|               2.5|\n",
      "| GBR|1896 Verano|                8|1.1428571428571428|\n",
      "| FRA|1896 Verano|               11|             1.375|\n",
      "| GRE|1896 Verano|                9|1.2857142857142858|\n",
      "| HUN|1896 Verano|                6|               1.0|\n",
      "| AUS|1896 Verano|                3|               1.0|\n",
      "| AUT|1896 Verano|                5|               1.0|\n",
      "| DEN|1896 Verano|                6|               1.0|\n",
      "| SUI|1896 Verano|                3|               1.0|\n",
      "| SWE|1900 Verano|                6|               3.0|\n",
      "| USA|1900 Verano|               65|2.4074074074074074|\n",
      "| FRA|1900 Verano|              179| 3.314814814814815|\n",
      "| GER|1900 Verano|               27|               4.5|\n",
      "| NOR|1900 Verano|                9|               1.8|\n",
      "| GBR|1900 Verano|               68|2.8333333333333335|\n",
      "| HUN|1900 Verano|                5|               1.0|\n",
      "| SUI|1900 Verano|               21|               3.5|\n",
      "| NED|1900 Verano|               26| 4.333333333333333|\n",
      "| BEL|1900 Verano|               21|1.6153846153846154|\n",
      "+----+-----------+-----------------+------------------+\n",
      "only showing top 20 rows\n",
      "\n"
     ]
    }
   ],
   "source": [
    "medallistaXAnio2.groupBy(\"pais\", \"year\")\\\n",
    "    .agg(sum(\"count\").alias(\"Total de medallas\"),\\\n",
    "        avg(\"count\").alias(\"Medallas promedio\")).show()"
   ]
  },
  {
   "cell_type": "markdown",
   "metadata": {},
   "source": [
    "### Fin de la lección 18."
   ]
  },
  {
   "cell_type": "markdown",
   "metadata": {},
   "source": [
    "### Lección 19: SQL."
   ]
  },
  {
   "cell_type": "markdown",
   "metadata": {},
   "source": [
    "En esta lección vamos a registar algunos DFs como si fueran tablas tradicionales de SQL."
   ]
  },
  {
   "cell_type": "code",
   "execution_count": 62,
   "metadata": {},
   "outputs": [],
   "source": [
    "resultadoDF.registerTempTable(\"resultado\")\n",
    "deportistaOlimpicoDF.registerTempTable(\"deportista\")\n",
    "paisesDF.registerTempTable(\"paises\")"
   ]
  },
  {
   "cell_type": "code",
   "execution_count": 63,
   "metadata": {},
   "outputs": [
    {
     "name": "stdout",
     "output_type": "stream",
     "text": [
      "+------------+-------+-------------+--------+---------+\n",
      "|resultado_id|medalla|deportista_id|juego_id|evento_id|\n",
      "+------------+-------+-------------+--------+---------+\n",
      "|           1|     NA|            1|      39|        1|\n",
      "|           2|     NA|            2|      49|        2|\n",
      "|           3|     NA|            3|       7|        3|\n",
      "|           4|   Gold|            4|       2|        4|\n",
      "|           5|     NA|            5|      36|        5|\n",
      "+------------+-------+-------------+--------+---------+\n",
      "only showing top 5 rows\n",
      "\n"
     ]
    }
   ],
   "source": [
    "sqlContext.sql(\"SELECT * FROM resultado\").show(5)"
   ]
  },
  {
   "cell_type": "code",
   "execution_count": 64,
   "metadata": {
    "scrolled": true
   },
   "outputs": [
    {
     "name": "stdout",
     "output_type": "stream",
     "text": [
      "root\n",
      " |-- equipo_id: integer (nullable = true)\n",
      " |-- nombre_equipo: string (nullable = true)\n",
      " |-- pais: string (nullable = true)\n",
      "\n"
     ]
    }
   ],
   "source": [
    "paisesDF.printSchema()"
   ]
  },
  {
   "cell_type": "code",
   "execution_count": 65,
   "metadata": {
    "scrolled": true
   },
   "outputs": [
    {
     "name": "stdout",
     "output_type": "stream",
     "text": [
      "root\n",
      " |-- resultado_id: integer (nullable = true)\n",
      " |-- medalla: string (nullable = true)\n",
      " |-- deportista_id: integer (nullable = true)\n",
      " |-- juego_id: integer (nullable = true)\n",
      " |-- evento_id: integer (nullable = true)\n",
      "\n"
     ]
    }
   ],
   "source": [
    "resultadoDF.printSchema()"
   ]
  },
  {
   "cell_type": "code",
   "execution_count": 66,
   "metadata": {},
   "outputs": [
    {
     "name": "stdout",
     "output_type": "stream",
     "text": [
      "root\n",
      " |-- deportista_id: integer (nullable = true)\n",
      " |-- nombre: string (nullable = true)\n",
      " |-- edad_al_jugar: integer (nullable = true)\n",
      " |-- equipo_id: integer (nullable = true)\n",
      "\n"
     ]
    }
   ],
   "source": [
    "deportistaOlimpicoDF.printSchema()"
   ]
  },
  {
   "cell_type": "code",
   "execution_count": 67,
   "metadata": {},
   "outputs": [
    {
     "name": "stdout",
     "output_type": "stream",
     "text": [
      "+-------+-------------+----+\n",
      "|medalla|nombre_equipo|pais|\n",
      "+-------+-------------+----+\n",
      "|   Gold|     Zimbabwe| ZIM|\n",
      "| Silver|     Zimbabwe| ZIM|\n",
      "|   Gold|     Zimbabwe| ZIM|\n",
      "| Silver|     Zimbabwe| ZIM|\n",
      "|   Gold|     Zimbabwe| ZIM|\n",
      "+-------+-------------+----+\n",
      "only showing top 5 rows\n",
      "\n"
     ]
    }
   ],
   "source": [
    "sqlContext.sql(\"\"\"\n",
    "                SELECT medalla, nombre_equipo, pais FROM resultado AS r\n",
    "                JOIN deportista AS d\n",
    "                ON r.deportista_id = d.deportista_id\n",
    "                JOIN paises AS p\n",
    "                ON p.equipo_id = d.equipo_id\n",
    "                WHERE medalla <> \"NA\"\n",
    "                ORDER BY pais DESC\n",
    "                \"\"\").show(5)"
   ]
  },
  {
   "cell_type": "code",
   "execution_count": 68,
   "metadata": {},
   "outputs": [
    {
     "data": {
      "text/html": [
       "\n",
       "        <div>\n",
       "            <p><b>SparkContext</b></p>\n",
       "\n",
       "            <p><a href=\"http://192.168.1.69:4040\">Spark UI</a></p>\n",
       "\n",
       "            <dl>\n",
       "              <dt>Version</dt>\n",
       "                <dd><code>v2.4.7</code></dd>\n",
       "              <dt>Master</dt>\n",
       "                <dd><code>local</code></dd>\n",
       "              <dt>AppName</dt>\n",
       "                <dd><code>DataFrames</code></dd>\n",
       "            </dl>\n",
       "        </div>\n",
       "        "
      ],
      "text/plain": [
       "<SparkContext master=local appName=DataFrames>"
      ]
     },
     "execution_count": 68,
     "metadata": {},
     "output_type": "execute_result"
    }
   ],
   "source": [
    "spark"
   ]
  },
  {
   "cell_type": "markdown",
   "metadata": {},
   "source": [
    "Recomendación: Cuando estes cargando archivos o conexiones con bases de datos y vayas a darle vida a un DF, no hay problema en utilizar el sqlContext (Es lo más normal). Sin embargo, cuando empiezas a hacer cruces y demás operaciones join y de acrupación, opera con los DF directamente.\n",
    "\n",
    "El verdadero poder de Spark está en sus funcions nattivas."
   ]
  },
  {
   "cell_type": "markdown",
   "metadata": {},
   "source": [
    "### Fin de la lección 19."
   ]
  },
  {
   "cell_type": "markdown",
   "metadata": {},
   "source": [
    "### Lección 20: ¿Qué es un UDF?."
   ]
  },
  {
   "cell_type": "markdown",
   "metadata": {},
   "source": [
    "Las funciones definidas por el usuario o UDF, por sus siglas en inglés, son una funcionalidad agregada en Spark para definir funciones basadas en columnas las cuales permiten extender las capacidades de Spark al momento de transformar el set de datos.\n",
    "\n",
    "Este tipo de implementaciones son convenientes cuando tenemos un desarrollo extenso donde hemos identificado la periodicidad de tareas repetitivas como suele ser en pasos de limpieza de datos, transformación o renombrado dinámico de columnas.\n",
    "\n",
    "Por lo anterior es común encontrar en un proyecto de Spark una librería independiente donde existen todas estas funciones agregadas para que los desarrolladores involucrados en el proyecto puedan usarlas a conveniencia.\n",
    "\n",
    "El uso de UDF no implica que las funciones que podemos crear nativamente con Python, Scala, R o Java no sean útiles. Una UDF tiene el objetivo de ofrecer un estándar interno en el proyecto que nos encontremos realizando. Además, en caso de ser necesario, una UDF puede ser modificada con ayuda de decoradores para que sea más extensible en diversos escenarios a los cuales nos podemos enfrentar.\n",
    "\n",
    "Otro motivo para usar UDF es que en el módulo de Spark MLlib, la librería nativa de Spark para operaciones de Machine Learning, las UDF juegan un papel vital al momento de hacer transformaciones. Por lo cual tener un uso familiar de estas ampliará considerablemente la curva de aprendizaje de Spark MLlib."
   ]
  },
  {
   "cell_type": "markdown",
   "metadata": {},
   "source": [
    "### Fin de la lección 20."
   ]
  },
  {
   "cell_type": "markdown",
   "metadata": {},
   "source": [
    "### Lección 21: UDF"
   ]
  },
  {
   "cell_type": "code",
   "execution_count": 69,
   "metadata": {
    "scrolled": true
   },
   "outputs": [
    {
     "name": "stdout",
     "output_type": "stream",
     "text": [
      "deportista_id,nombre,genero,edad,altura,peso,equipo_id\r\n",
      "1,A Dijiang,1,24,180,80,199\r\n",
      "2,A Lamusi,1,23,170,60,199\r\n",
      "3,Gunnar Nielsen Aaby,1,24,,,273\r\n",
      "4,Edgar Lindenau Aabye,1,34,,,278\r\n"
     ]
    }
   ],
   "source": [
    "!head -n 5 ./files/deportistaError.csv"
   ]
  },
  {
   "cell_type": "code",
   "execution_count": 70,
   "metadata": {},
   "outputs": [
    {
     "name": "stdout",
     "output_type": "stream",
     "text": [
      "+-------------+--------------------+------+----+------+----+---------+\n",
      "|deportista_id|              nombre|genero|edad|altura|peso|equipo_id|\n",
      "+-------------+--------------------+------+----+------+----+---------+\n",
      "|            1|           A Dijiang|     1|  24|   180|  80|      199|\n",
      "|            2|            A Lamusi|     1|  23|   170|  60|      199|\n",
      "|            3| Gunnar Nielsen Aaby|     1|  24|      |    |      273|\n",
      "|            4|Edgar Lindenau Aabye|     1|  34|      |    |      278|\n",
      "|            5|Christine Jacoba ...|     2|  21|   185|  82|      705|\n",
      "|            6|     Per Knut Aaland|     1|  31|   188|  75|     1096|\n",
      "|            7|        John Aalberg|     1|  31|   183|  72|     1096|\n",
      "|            8|\"Cornelia \"\"Cor\"\"...|     2|  18|   168|    |      705|\n",
      "|            9|    Antti Sami Aalto|     1|  26|   186|  96|      350|\n",
      "|           10|\"Einar Ferdinand ...|     1|  26|      |    |      350|\n",
      "|           11|  Jorma Ilmari Aalto|     1|  22|   182|76.5|      350|\n",
      "|           12|   Jyri Tapani Aalto|     1|  31|   172|  70|      350|\n",
      "|           13|  Minna Maarit Aalto|     2|  30|   159|55.5|      350|\n",
      "|           14|Pirjo Hannele Aal...|     2|  32|   171|  65|      350|\n",
      "|           15|Arvo Ossian Aaltonen|     1|  22|      |    |      350|\n",
      "|           16|Juhamatti Tapio A...|     1|  28|   184|  85|      350|\n",
      "|           17|Paavo Johannes Aa...|     1|  28|   175|  64|      350|\n",
      "|           18|Timo Antero Aaltonen|     1|  31|   189| 130|      350|\n",
      "|           19|Win Valdemar Aalt...|     1|  54|      |    |      350|\n",
      "|           20|  Kjetil Andr Aamodt|     1|  20|   176|  85|      742|\n",
      "+-------------+--------------------+------+----+------+----+---------+\n",
      "only showing top 20 rows\n",
      "\n"
     ]
    }
   ],
   "source": [
    "deportistaOlimpicoRDD =  spark.textFile(path+\"deportistaError.csv\").map(lambda line : line.split(\",\"))\n",
    "deportistaOlimpicoRDD=deportistaOlimpicoRDD.mapPartitionsWithIndex(eliminaEncabezado)\n",
    "\n",
    "deportistaOlimpicoRDD = deportistaOlimpicoRDD.map(lambda l : (\n",
    "l[0],\n",
    "l[1],\n",
    "l[2],\n",
    "l[3],\n",
    "l[4],\n",
    "l[5],\n",
    "l[6]\n",
    "))\n",
    "\n",
    "schema = StructType([\n",
    "StructField(\"deportista_id\",StringType(),False)     ,\n",
    "StructField(\"nombre\",StringType(),False)        ,\n",
    "StructField(\"genero\",StringType(),False)        ,\n",
    "StructField(\"edad\",StringType(),True)      ,\n",
    "StructField(\"altura\",StringType(),True)        ,\n",
    "StructField(\"peso\",StringType(),True)      ,\n",
    "StructField(\"equipo_id\",StringType(),True)     \n",
    "])\n",
    "\n",
    "deportistaErrorDF = sqlContext.createDataFrame(deportistaOlimpicoRDD,schema)\n",
    "deportistaErrorDF.show()"
   ]
  },
  {
   "cell_type": "markdown",
   "metadata": {},
   "source": [
    "En la celda anterior podemos ver que carga el DF, pero en la ausencia de datos no hay una palabra NULL. Esto lo resolveremos con la siguiente UDF."
   ]
  },
  {
   "cell_type": "markdown",
   "metadata": {},
   "source": [
    "Los pasos para crear la udf son:\n",
    "\n",
    "    1. Crear la función base\n",
    "    2. Registrarla como udf\n",
    "    3. Indicar al sqlContext que la usaremos como función nativa en sqlContext (opcional)\n"
   ]
  },
  {
   "cell_type": "code",
   "execution_count": 71,
   "metadata": {
    "scrolled": false
   },
   "outputs": [
    {
     "data": {
      "text/plain": [
       "<function __main__.<lambda>(z)>"
      ]
     },
     "execution_count": 71,
     "metadata": {},
     "output_type": "execute_result"
    }
   ],
   "source": [
    "from pyspark.sql.functions import udf\n",
    "\n",
    "def conversionEnteros(valor):\n",
    "    return int(valor) if len(valor) > 0 else None\n",
    "\n",
    "conversionEnteros_udf = udf(lambda z: conversionEnteros(z), IntegerType())\n",
    "sqlContext.udf.register(\"conversionEnteros_udf\", conversionEnteros_udf)"
   ]
  },
  {
   "cell_type": "code",
   "execution_count": 72,
   "metadata": {},
   "outputs": [
    {
     "name": "stdout",
     "output_type": "stream",
     "text": [
      "+----------------+\n",
      "|<lambda>(altura)|\n",
      "+----------------+\n",
      "|             180|\n",
      "|             170|\n",
      "|            null|\n",
      "|            null|\n",
      "|             185|\n",
      "|             188|\n",
      "|             183|\n",
      "|             168|\n",
      "|             186|\n",
      "|            null|\n",
      "|             182|\n",
      "|             172|\n",
      "|             159|\n",
      "|             171|\n",
      "|            null|\n",
      "|             184|\n",
      "|             175|\n",
      "|             189|\n",
      "|            null|\n",
      "|             176|\n",
      "+----------------+\n",
      "only showing top 20 rows\n",
      "\n"
     ]
    }
   ],
   "source": [
    "deportistaErrorDF.select(conversionEnteros_udf(\"altura\")).show()"
   ]
  },
  {
   "cell_type": "markdown",
   "metadata": {},
   "source": [
    "### Fin de la lección 21."
   ]
  },
  {
   "cell_type": "markdown",
   "metadata": {},
   "source": [
    "# Fin del módulo 4."
   ]
  }
 ],
 "metadata": {
  "kernelspec": {
   "display_name": "Python 3",
   "language": "python",
   "name": "python3"
  },
  "language_info": {
   "codemirror_mode": {
    "name": "ipython",
    "version": 3
   },
   "file_extension": ".py",
   "mimetype": "text/x-python",
   "name": "python",
   "nbconvert_exporter": "python",
   "pygments_lexer": "ipython3",
   "version": "3.7.9"
  }
 },
 "nbformat": 4,
 "nbformat_minor": 4
}
